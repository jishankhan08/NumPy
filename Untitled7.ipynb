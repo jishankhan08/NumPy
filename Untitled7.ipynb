{
  "nbformat": 4,
  "nbformat_minor": 0,
  "metadata": {
    "colab": {
      "provenance": []
    },
    "kernelspec": {
      "name": "python3",
      "display_name": "Python 3"
    },
    "language_info": {
      "name": "python"
    }
  },
  "cells": [
    {
      "cell_type": "markdown",
      "source": [
        "1. Create a NumPy array 'arr' of integers from 0 to 5 and print its data type:"
      ],
      "metadata": {
        "id": "JgzfACSWgL2k"
      }
    },
    {
      "cell_type": "code",
      "source": [
        "import numpy as np\n",
        "\n",
        "arr = np.arange(6)\n",
        "print(arr.dtype)\n"
      ],
      "metadata": {
        "id": "mNW4m6ujgP7V"
      },
      "execution_count": null,
      "outputs": []
    },
    {
      "cell_type": "markdown",
      "source": [
        "2. Given a NumPy array 'arr', check if its data type is float64:"
      ],
      "metadata": {
        "id": "wW1Oz4xNgkbR"
      }
    },
    {
      "cell_type": "code",
      "source": [
        "arr = np.array([1.0, 2.0, 3.0])\n",
        "if arr.dtype == np.float64:\n",
        "    print(\"Data type is float64\")\n",
        "else:\n",
        "    print(\"Data type is not float64\")\n"
      ],
      "metadata": {
        "id": "pLESOg2PgpXW"
      },
      "execution_count": null,
      "outputs": []
    },
    {
      "cell_type": "markdown",
      "source": [
        "3. Create a NumPy array 'arr' with a data type of complex128 containing three complex numbers:"
      ],
      "metadata": {
        "id": "uxfpyz2Dgsnx"
      }
    },
    {
      "cell_type": "code",
      "source": [
        "arr = np.array([1+2j, 3+4j, 5+6j], dtype=np.complex128)\n"
      ],
      "metadata": {
        "id": "8zWhOLPDguwy"
      },
      "execution_count": null,
      "outputs": []
    },
    {
      "cell_type": "markdown",
      "source": [
        "4. Convert an existing NumPy array 'arr' of integers to float32 data type:"
      ],
      "metadata": {
        "id": "K7NhF8SVg0FA"
      }
    },
    {
      "cell_type": "code",
      "source": [
        "arr = np.array([1, 2, 3])\n",
        "arr = arr.astype(np.float32)\n"
      ],
      "metadata": {
        "id": "kB2YtOMrg1Fi"
      },
      "execution_count": null,
      "outputs": []
    },
    {
      "cell_type": "markdown",
      "source": [
        "5. Given a NumPy array 'arr' with float64 data type, convert it to float32 to reduce decimal precision:"
      ],
      "metadata": {
        "id": "JfORd_cQg8aD"
      }
    },
    {
      "cell_type": "code",
      "source": [
        "arr = np.array([1.123456789, 2.987654321], dtype=np.float64)\n",
        "arr = arr.astype(np.float32)\n"
      ],
      "metadata": {
        "id": "z7XHd5EVhl1N"
      },
      "execution_count": null,
      "outputs": []
    },
    {
      "cell_type": "markdown",
      "source": [
        "6. Write a function 'array_attributes' that takes a NumPy array as input and returns its shape, size, and data type:"
      ],
      "metadata": {
        "id": "lLw6OyRrhAx2"
      }
    },
    {
      "cell_type": "code",
      "source": [
        "def array_attributes(arr):\n",
        "    return arr.shape, arr.size, arr.dtype\n"
      ],
      "metadata": {
        "id": "vMkPrKjhhE1L"
      },
      "execution_count": null,
      "outputs": []
    },
    {
      "cell_type": "markdown",
      "source": [
        "7. Create a function 'array_dimension' that takes a NumPy array as input and returns its dimensionality:"
      ],
      "metadata": {
        "id": "CphezfVChI6b"
      }
    },
    {
      "cell_type": "code",
      "source": [
        "def array_dimension(arr):\n",
        "    return arr.ndim\n"
      ],
      "metadata": {
        "id": "FBGPCEYHhOKd"
      },
      "execution_count": null,
      "outputs": []
    },
    {
      "cell_type": "markdown",
      "source": [
        "8. Design a function 'item_size_info' that takes a NumPy array as input and returns the item size and the total size in bytes:"
      ],
      "metadata": {
        "id": "JCGznjwQhQbd"
      }
    },
    {
      "cell_type": "code",
      "source": [
        "def item_size_info(arr):\n",
        "    return arr.itemsize, arr.nbytes\n"
      ],
      "metadata": {
        "id": "G0tWltunhUjT"
      },
      "execution_count": null,
      "outputs": []
    },
    {
      "cell_type": "markdown",
      "source": [
        "9. Create a function 'array_strides' that takes a NumPy array as input and returns the strides of the array:"
      ],
      "metadata": {
        "id": "GavgkfnxhzJD"
      }
    },
    {
      "cell_type": "code",
      "source": [
        "def array_strides(arr):\n",
        "    return arr.strides\n"
      ],
      "metadata": {
        "id": "sNQ_bBNhh8Ek"
      },
      "execution_count": null,
      "outputs": []
    },
    {
      "cell_type": "markdown",
      "source": [
        "10. Design a function 'shape_stride_relationship' that takes a NumPy array as input and returns the shape and strides of the array:"
      ],
      "metadata": {
        "id": "j3oxa-DjiAHd"
      }
    },
    {
      "cell_type": "code",
      "source": [
        "def shape_stride_relationship(arr):\n",
        "    return arr.shape, arr.strides\n"
      ],
      "metadata": {
        "id": "Xvp_qLOxiHF5"
      },
      "execution_count": null,
      "outputs": []
    },
    {
      "cell_type": "markdown",
      "source": [
        "11. Create a function 'create_zeros_array' that takes an integer 'n' as input and returns a NumPy array of zeros with 'n' elements:\n"
      ],
      "metadata": {
        "id": "1QMU1E2YiMns"
      }
    },
    {
      "cell_type": "code",
      "source": [
        "def create_zeros_array(n):\n",
        "    return np.zeros(n)\n"
      ],
      "metadata": {
        "id": "MbYc5CssijNV"
      },
      "execution_count": null,
      "outputs": []
    },
    {
      "cell_type": "markdown",
      "source": [
        "12. Write a function 'create_ones_matrix' that takes integers 'rows' and 'cols' as inputs and generates a 2D NumPy array filled with ones of size rows x cols':"
      ],
      "metadata": {
        "id": "CnPoldZbipBV"
      }
    },
    {
      "cell_type": "code",
      "source": [
        "def create_ones_matrix(rows, cols):\n",
        "    return np.ones((rows, cols))\n"
      ],
      "metadata": {
        "id": "sDI4Dut5i0Xj"
      },
      "execution_count": null,
      "outputs": []
    },
    {
      "cell_type": "markdown",
      "source": [
        "13. Write a function 'generate_range_array' that takes three integers start, stop, and step as arguments and creates a NumPy array with a range starting from 'start', ending at stop (exclusive), and with the specified 'step':"
      ],
      "metadata": {
        "id": "4twygHvni2nZ"
      }
    },
    {
      "cell_type": "code",
      "source": [
        "def generate_range_array(start, stop, step):\n",
        "    return np.arange(start, stop, step)\n"
      ],
      "metadata": {
        "id": "3kTYuZkDjCvp"
      },
      "execution_count": null,
      "outputs": []
    },
    {
      "cell_type": "markdown",
      "source": [
        "14. Design a function 'generate_linear_space' that takes two floats 'start', 'stop', and an integer 'num' as arguments and generates a NumPy array with num equally spaced values between 'start' and 'stop' (inclusive):"
      ],
      "metadata": {
        "id": "XaC4IW_ujFtR"
      }
    },
    {
      "cell_type": "code",
      "source": [
        "def generate_linear_space(start, stop, num):\n",
        "    return np.linspace(start, stop, num)\n"
      ],
      "metadata": {
        "id": "67UHonckja9X"
      },
      "execution_count": null,
      "outputs": []
    },
    {
      "cell_type": "markdown",
      "source": [
        "15. Create a function 'create_identity_matrix' that takes an integer 'n' as input and generates a square identity matrix of size 'n x n' using 'numpy.eye':"
      ],
      "metadata": {
        "id": "AlPfgNPejpMu"
      }
    },
    {
      "cell_type": "code",
      "source": [
        "def create_identity_matrix(n):\n",
        "    return np.eye(n)\n"
      ],
      "metadata": {
        "id": "7g7WQ7_6jz5D"
      },
      "execution_count": null,
      "outputs": []
    },
    {
      "cell_type": "markdown",
      "source": [
        "16. Write a function that takes a Python list and converts it into a NumPy array:"
      ],
      "metadata": {
        "id": "43BveH4bj4K5"
      }
    },
    {
      "cell_type": "code",
      "source": [
        "def list_to_numpy_array(lst):\n",
        "    return np.array(lst)\n"
      ],
      "metadata": {
        "id": "Vmrn-0T9j_Zj"
      },
      "execution_count": null,
      "outputs": []
    },
    {
      "cell_type": "markdown",
      "source": [
        "17. Create a NumPy array and demonstrate the use of 'numpy.view' to create a new array object with the same data:"
      ],
      "metadata": {
        "id": "4Q2Z624UkDkd"
      }
    },
    {
      "cell_type": "code",
      "source": [
        "def demonstrate_numpy_view():\n",
        "    arr = np.array([1, 2, 3, 4, 5])\n",
        "    arr_view = arr.view()\n",
        "    return arr, arr_view\n"
      ],
      "metadata": {
        "id": "plQNhznAkKX4"
      },
      "execution_count": null,
      "outputs": []
    },
    {
      "cell_type": "markdown",
      "source": [
        "18. Create a NumPy array and demonstrate the use of 'numpy.copy' to create a deep copy of the array:"
      ],
      "metadata": {
        "id": "RjH6XN6JkNK9"
      }
    },
    {
      "cell_type": "code",
      "source": [
        "def demonstrate_numpy_copy():\n",
        "    arr = np.array([1, 2, 3, 4, 5])\n",
        "    arr_copy = arr.copy()\n",
        "    return arr, arr_copy\n"
      ],
      "metadata": {
        "id": "is9i3pJzkWOm"
      },
      "execution_count": null,
      "outputs": []
    },
    {
      "cell_type": "markdown",
      "source": [
        "19. Design a function 'reshape_array' that takes a NumPy array and a new shape as inputs and reshapes the array accordingly:"
      ],
      "metadata": {
        "id": "IiRCOLFJkPNm"
      }
    },
    {
      "cell_type": "code",
      "source": [
        "def reshape_array(arr, new_shape):\n",
        "    return arr.reshape(new_shape)\n"
      ],
      "metadata": {
        "id": "0RQX5ZaRkjrj"
      },
      "execution_count": null,
      "outputs": []
    },
    {
      "cell_type": "markdown",
      "source": [
        "20. Write a function 'flatten_array' that takes a NumPy array as input and returns a flattened version of the array:"
      ],
      "metadata": {
        "id": "wZ6hKUCaknRA"
      }
    },
    {
      "cell_type": "code",
      "source": [
        "def flatten_array(arr):\n",
        "    return arr.flatten()\n"
      ],
      "metadata": {
        "id": "Wy3YHK9Ekr9o"
      },
      "execution_count": null,
      "outputs": []
    },
    {
      "cell_type": "markdown",
      "source": [
        "21. Create a function 'concatenate_arrays' inputs and concatenates them along the first axis:"
      ],
      "metadata": {
        "id": "ErEeELz2ktkP"
      }
    },
    {
      "cell_type": "code",
      "source": [
        "def concatenate_arrays(arr1, arr2):\n",
        "    return np.concatenate((arr1, arr2))\n"
      ],
      "metadata": {
        "id": "W8OfnwKvktG3"
      },
      "execution_count": null,
      "outputs": []
    },
    {
      "cell_type": "markdown",
      "source": [
        "22. Write a function 'stack_arrays_vertically' that takes two NumPy arrays as inputs and stacks them vertically:"
      ],
      "metadata": {
        "id": "GKjxkMUwk-jD"
      }
    },
    {
      "cell_type": "code",
      "source": [
        "def stack_arrays_vertically(arr1, arr2):\n",
        "    return np.vstack((arr1, arr2))\n"
      ],
      "metadata": {
        "id": "R4j-ZLpBlE4U"
      },
      "execution_count": null,
      "outputs": []
    },
    {
      "cell_type": "markdown",
      "source": [
        "23. Create a function 'stack_arrays_horizontally' that takes two NumPy arrays as inputs and stacks them horizontally:"
      ],
      "metadata": {
        "id": "yprRKPVzlHqg"
      }
    },
    {
      "cell_type": "code",
      "source": [
        "def stack_arrays_horizontally(arr1, arr2):\n",
        "    return np.hstack((arr1, arr2))\n"
      ],
      "metadata": {
        "id": "xH9NmIiZlOC_"
      },
      "execution_count": null,
      "outputs": []
    },
    {
      "cell_type": "markdown",
      "source": [
        "24. Design a function 'split_array' that takes a NumPy array and an integer 'n' as inputs and splits the array into 'n' sub-arrays:"
      ],
      "metadata": {
        "id": "jj4codJPlTu7"
      }
    },
    {
      "cell_type": "code",
      "source": [
        "def split_array(arr, n):\n",
        "    return np.array_split(arr, n)\n"
      ],
      "metadata": {
        "id": "hj8r9pkilbBU"
      },
      "execution_count": null,
      "outputs": []
    },
    {
      "cell_type": "markdown",
      "source": [
        "25.Create a function 'transpose_matrix' that takes a 2D NumPy array (matrix) as input and returns its transpose:"
      ],
      "metadata": {
        "id": "v5I9khHjleBD"
      }
    },
    {
      "cell_type": "code",
      "source": [
        "def transpose_matrix(matrix):\n",
        "    return np.transpose(matrix)\n"
      ],
      "metadata": {
        "id": "CKjQ05NhlixY"
      },
      "execution_count": null,
      "outputs": []
    },
    {
      "cell_type": "markdown",
      "source": [
        "26. Write a function 'reverse_array' that takes a NumPy array as input and returns the array with its elements reversed:"
      ],
      "metadata": {
        "id": "FnTgynGFlow2"
      }
    },
    {
      "cell_type": "code",
      "source": [
        "def reverse_array(arr):\n",
        "    return arr[::-1]\n"
      ],
      "metadata": {
        "id": "XSo_pYnHlvNU"
      },
      "execution_count": null,
      "outputs": []
    },
    {
      "cell_type": "markdown",
      "source": [
        "27. Create a function mean_of_array that takes a NumPy array as input and returns the mean of its elements:\n"
      ],
      "metadata": {
        "id": "INVwogtClyAI"
      }
    },
    {
      "cell_type": "code",
      "source": [
        "def mean_of_array(arr):\n",
        "    return np.mean(arr)\n"
      ],
      "metadata": {
        "id": "Low7CvN5l4Sq"
      },
      "execution_count": null,
      "outputs": []
    },
    {
      "cell_type": "markdown",
      "source": [
        "28. Design a function sum_of_array that takes a NumPy array as input and returns the sum of its elements:"
      ],
      "metadata": {
        "id": "CqGh0Xvll71P"
      }
    },
    {
      "cell_type": "code",
      "source": [
        "def sum_of_array(arr):\n",
        "    return np.sum(arr)\n"
      ],
      "metadata": {
        "id": "s_8gfuF8l8sf"
      },
      "execution_count": null,
      "outputs": []
    },
    {
      "cell_type": "markdown",
      "source": [
        "29. Create a function cumulative_sum that takes a NumPy array as input and returns the cumulative sum of its elements:"
      ],
      "metadata": {
        "id": "9eofGMqYmE4u"
      }
    },
    {
      "cell_type": "code",
      "source": [
        "def cumulative_sum(arr):\n",
        "    return np.cumsum(arr)\n"
      ],
      "metadata": {
        "id": "Bmp9jhJ1mGnP"
      },
      "execution_count": null,
      "outputs": []
    },
    {
      "cell_type": "markdown",
      "source": [
        "30. Write a function product_of_array that takes a NumPy array as input and returns the product of its elements:"
      ],
      "metadata": {
        "id": "7BpQID_9mKgi"
      }
    },
    {
      "cell_type": "code",
      "source": [
        "def product_of_array(arr):\n",
        "    return np.prod(arr)\n"
      ],
      "metadata": {
        "id": "PS8ByLVfmNlx"
      },
      "execution_count": null,
      "outputs": []
    },
    {
      "cell_type": "markdown",
      "source": [
        "31. Create a function cumulative_product that takes a NumPy array as input and returns the cumulative product of its elements:\n",
        "\n"
      ],
      "metadata": {
        "id": "yTCmibBpmQom"
      }
    },
    {
      "cell_type": "code",
      "source": [
        "def cumulative_product(arr):\n",
        "    return np.cumprod(arr)\n"
      ],
      "metadata": {
        "id": "VZogFE_amZtZ"
      },
      "execution_count": null,
      "outputs": []
    },
    {
      "cell_type": "markdown",
      "source": [
        "32. Design a function min_of_array that takes a NumPy array as input and returns the minimum value in the array:"
      ],
      "metadata": {
        "id": "P1AWqSEPmcFQ"
      }
    },
    {
      "cell_type": "code",
      "source": [
        "def min_of_array(arr):\n",
        "    return np.min(arr)\n"
      ],
      "metadata": {
        "id": "tQYDQ33RmeAC"
      },
      "execution_count": null,
      "outputs": []
    },
    {
      "cell_type": "markdown",
      "source": [
        "33. Create a function max_of_array that takes a NumPy array as input and returns the maximum value in the array:"
      ],
      "metadata": {
        "id": "HO1upyNZmkv_"
      }
    },
    {
      "cell_type": "code",
      "source": [
        "def max_of_array(arr):\n",
        "    return np.max(arr)\n"
      ],
      "metadata": {
        "id": "jjNcI0-engSs"
      },
      "execution_count": null,
      "outputs": []
    },
    {
      "cell_type": "markdown",
      "source": [
        "34. Write a function argmin_of_array that takes a NumPy array as input and returns the index of the minimum value:"
      ],
      "metadata": {
        "id": "Wq5brWebnioC"
      }
    },
    {
      "cell_type": "code",
      "source": [
        "def argmin_of_array(arr):\n",
        "    return np.argmin(arr)\n"
      ],
      "metadata": {
        "id": "KVRMwArJnp7A"
      },
      "execution_count": null,
      "outputs": []
    },
    {
      "cell_type": "markdown",
      "source": [
        "35. Create a function argmax_of_array that takes a NumPy array as input and returns the index of the maximum value:"
      ],
      "metadata": {
        "id": "GicJArrOntPc"
      }
    },
    {
      "cell_type": "code",
      "source": [
        "def argmax_of_array(arr):\n",
        "    return np.argmax(arr)\n"
      ],
      "metadata": {
        "id": "5Dm8evbQnu4x"
      },
      "execution_count": null,
      "outputs": []
    },
    {
      "cell_type": "markdown",
      "source": [
        "36. Design a function square_elements that takes a NumPy array as input and returns a new array with the square of each element:"
      ],
      "metadata": {
        "id": "7tyMsWSvnx0b"
      }
    },
    {
      "cell_type": "code",
      "source": [
        "def square_elements(arr):\n",
        "    return np.square(arr)\n"
      ],
      "metadata": {
        "id": "m4bj4cyYny5a"
      },
      "execution_count": null,
      "outputs": []
    },
    {
      "cell_type": "markdown",
      "source": [
        "37. Create a function sqrt_elements that takes a NumPy array as input and returns a new array with the square root of each element:"
      ],
      "metadata": {
        "id": "cDXZpJD-n07Y"
      }
    },
    {
      "cell_type": "code",
      "source": [
        "def sqrt_elements(arr):\n",
        "    return np.sqrt(arr)\n"
      ],
      "metadata": {
        "id": "s1XTXrunn3sV"
      },
      "execution_count": 2,
      "outputs": []
    },
    {
      "cell_type": "markdown",
      "source": [
        "38. Write a function log_elements that takes a NumPy array as input and returns a new array with the natural logarithm of each element:"
      ],
      "metadata": {
        "id": "4a7GhA7Nn5-x"
      }
    },
    {
      "cell_type": "code",
      "source": [
        "def log_elements(arr):\n",
        "    return np.log(arr)\n"
      ],
      "metadata": {
        "id": "tnaU4YgYn8US"
      },
      "execution_count": null,
      "outputs": []
    },
    {
      "cell_type": "markdown",
      "source": [
        "39. Create a function exp_elements that takes a NumPy array as input and returns a new array with the exponential (e^x) of each element:"
      ],
      "metadata": {
        "id": "rHDXvLQioDwP"
      }
    },
    {
      "cell_type": "code",
      "source": [
        "def exp_elements(arr):\n",
        "    return np.exp(arr)\n"
      ],
      "metadata": {
        "id": "098sF_HfoEt0"
      },
      "execution_count": 3,
      "outputs": []
    },
    {
      "cell_type": "markdown",
      "source": [
        "40. Design a function sin_elements that takes a NumPy array as input and returns a new array with the sine of each element:"
      ],
      "metadata": {
        "id": "Wh6Jr3GeoG9S"
      }
    },
    {
      "cell_type": "code",
      "source": [
        "def sin_elements(arr):\n",
        "    return np.sin(arr)\n"
      ],
      "metadata": {
        "id": "HpkRC94LoH5l"
      },
      "execution_count": null,
      "outputs": []
    },
    {
      "cell_type": "markdown",
      "source": [
        "41. Create a function cos_elements that takes a NumPy array as input and returns a new array with the cosine of each element:"
      ],
      "metadata": {
        "id": "FmpN8HVroJzU"
      }
    },
    {
      "cell_type": "code",
      "source": [
        "def cos_elements(arr):\n",
        "    return np.cos(arr)\n"
      ],
      "metadata": {
        "id": "_QH7KfscoLGv"
      },
      "execution_count": null,
      "outputs": []
    },
    {
      "cell_type": "markdown",
      "source": [
        "42. Write a function tan_elements that takes a NumPy array as input and returns a new array with the tangent of each element:"
      ],
      "metadata": {
        "id": "Vc0oEGRIoNJB"
      }
    },
    {
      "cell_type": "code",
      "source": [
        "def tan_elements(arr):\n",
        "    return np.tan(arr)\n"
      ],
      "metadata": {
        "id": "ROsDnD5moOxT"
      },
      "execution_count": 4,
      "outputs": []
    },
    {
      "cell_type": "markdown",
      "source": [
        "43. Create a function dot_product that takes two 1D NumPy arrays as inputs and returns their dot product:"
      ],
      "metadata": {
        "id": "vmR9o9qVoSSo"
      }
    },
    {
      "cell_type": "code",
      "source": [
        "def dot_product(arr1, arr2):\n",
        "    return np.dot(arr1, arr2)\n"
      ],
      "metadata": {
        "id": "kCHZpQoEoUlD"
      },
      "execution_count": null,
      "outputs": []
    },
    {
      "cell_type": "markdown",
      "source": [
        "44. Design a function matrix_multiplication that takes two 2D NumPy arrays (matrices) as inputs and returns their matrix multiplication:"
      ],
      "metadata": {
        "id": "uS5s9WXjoY9A"
      }
    },
    {
      "cell_type": "code",
      "source": [
        "def matrix_multiplication(matrix1, matrix2):\n",
        "    return np.matmul(matrix1, matrix2)\n"
      ],
      "metadata": {
        "id": "r-nLH3Grob4u"
      },
      "execution_count": null,
      "outputs": []
    },
    {
      "cell_type": "markdown",
      "source": [
        "45. Create a function determinant_of_matrix that takes a square 2D NumPy array (matrix) as input and returns its determinant:\n",
        "\n"
      ],
      "metadata": {
        "id": "Pp1FdKzmofz2"
      }
    },
    {
      "cell_type": "code",
      "source": [
        "def determinant_of_matrix(matrix):\n",
        "    return np.linalg.det(matrix)\n"
      ],
      "metadata": {
        "id": "jZGVsTV3ohc6"
      },
      "execution_count": null,
      "outputs": []
    },
    {
      "cell_type": "markdown",
      "source": [
        "46. Write a function inverse_of_matrix that takes a square 2D NumPy array (matrix) as input and returns its inverse:"
      ],
      "metadata": {
        "id": "ytc_2r1fojzY"
      }
    },
    {
      "cell_type": "code",
      "source": [
        "def inverse_of_matrix(matrix):\n",
        "    return np.linalg.inv(matrix)\n"
      ],
      "metadata": {
        "id": "NgQV1pXeok3F"
      },
      "execution_count": null,
      "outputs": []
    },
    {
      "cell_type": "markdown",
      "source": [
        "47. Create a function eigenvalues_of_matrix that takes a square 2D NumPy array (matrix) as input and returns its eigenvalues:"
      ],
      "metadata": {
        "id": "ikC2urx_onLe"
      }
    },
    {
      "cell_type": "code",
      "source": [
        "def eigenvalues_of_matrix(matrix):\n",
        "    return np.linalg.eigvals(matrix)\n"
      ],
      "metadata": {
        "id": "nvT0S5N9ooGj"
      },
      "execution_count": null,
      "outputs": []
    },
    {
      "cell_type": "markdown",
      "source": [
        "48. Design a function svd_of_matrix that takes a 2D NumPy array (matrix) as input and returns its Singular Value Decomposition (SVD):"
      ],
      "metadata": {
        "id": "ECPBBujNoqK9"
      }
    },
    {
      "cell_type": "code",
      "source": [
        "def svd_of_matrix(matrix):\n",
        "    return np.linalg.svd(matrix)\n"
      ],
      "metadata": {
        "id": "WlgN8faAorpA"
      },
      "execution_count": null,
      "outputs": []
    },
    {
      "cell_type": "markdown",
      "source": [
        "49. Create a function solve_linear_system that takes two 2D NumPy arrays A and B as inputs and solves the linear system AX = B:"
      ],
      "metadata": {
        "id": "elNA-mWbotZV"
      }
    },
    {
      "cell_type": "code",
      "source": [
        "def solve_linear_system(A, B):\n",
        "    return np.linalg.solve(A, B)\n"
      ],
      "metadata": {
        "id": "Y8V_1r5FowBo"
      },
      "execution_count": null,
      "outputs": []
    },
    {
      "cell_type": "markdown",
      "source": [
        "50. Write a function identity_matrix_check that takes a square 2D NumPy array (matrix) as input and returns True if it is an identity matrix, False otherwise:"
      ],
      "metadata": {
        "id": "aP19lkBcoyLX"
      }
    },
    {
      "cell_type": "code",
      "source": [
        "def identity_matrix_check(matrix):\n",
        "    return np.array_equal(matrix, np.eye(matrix.shape[0]))\n"
      ],
      "metadata": {
        "id": "A_uGTwn7oziF"
      },
      "execution_count": null,
      "outputs": []
    },
    {
      "cell_type": "markdown",
      "source": [
        "51. Create a function diagonal_matrix_check that takes a square 2D NumPy array (matrix) as input and returns True if it is a diagonal matrix, False otherwise:"
      ],
      "metadata": {
        "id": "4vhG0QGWo2Au"
      }
    },
    {
      "cell_type": "code",
      "source": [
        "def diagonal_matrix_check(matrix):\n",
        "    return np.all(matrix == np.diag(np.diagonal(matrix)))\n"
      ],
      "metadata": {
        "id": "ffl0CPrWo28W"
      },
      "execution_count": null,
      "outputs": []
    },
    {
      "cell_type": "markdown",
      "source": [
        "52. Design a function upper_triangular_check that takes a square 2D NumPy array (matrix) as input and returns True if it is an upper triangular matrix, False otherwise:"
      ],
      "metadata": {
        "id": "6itTyAMGo6SE"
      }
    },
    {
      "cell_type": "code",
      "source": [
        "def upper_triangular_check(matrix):\n",
        "    return np.allclose(matrix, np.triu(matrix))\n"
      ],
      "metadata": {
        "id": "mDQMfI0Mo8MO"
      },
      "execution_count": null,
      "outputs": []
    },
    {
      "cell_type": "markdown",
      "source": [
        "53. Create a function lower_triangular_check that takes a square 2D NumPy array (matrix) as input and returns True if it is a lower triangular matrix, False otherwise:"
      ],
      "metadata": {
        "id": "IpUQ4-wzo-y0"
      }
    },
    {
      "cell_type": "code",
      "source": [
        "def lower_triangular_check(matrix):\n",
        "    return np.allclose(matrix, np.tril(matrix))\n"
      ],
      "metadata": {
        "id": "rIQZ84aJpB5l"
      },
      "execution_count": null,
      "outputs": []
    },
    {
      "cell_type": "markdown",
      "source": [
        "54. Write a function orthogonal_matrix_check that takes a square 2D NumPy array (matrix) as input and returns True if it is an orthogonal matrix, False otherwise:"
      ],
      "metadata": {
        "id": "r7E0IXGdpGxS"
      }
    },
    {
      "cell_type": "code",
      "source": [
        "def orthogonal_matrix_check(matrix):\n",
        "    return np.allclose(np.dot(matrix, matrix.T), np.eye(matrix.shape[0]))\n"
      ],
      "metadata": {
        "id": "Z1THZ2yapH5C"
      },
      "execution_count": null,
      "outputs": []
    },
    {
      "cell_type": "markdown",
      "source": [
        "55. Create a function generate_random_array that takes an integer n as input and returns a 1D NumPy array with n random elements between 0 and 1:"
      ],
      "metadata": {
        "id": "xcJIrAlQpK9U"
      }
    },
    {
      "cell_type": "code",
      "source": [
        "def generate_random_array(n):\n",
        "    return np.random.rand(n)\n"
      ],
      "metadata": {
        "id": "vQ4FNQdspMW7"
      },
      "execution_count": null,
      "outputs": []
    },
    {
      "cell_type": "markdown",
      "source": [
        "56. Design a function generate_random_matrix that takes integers rows and cols as inputs and generates a 2D NumPy array with random elements between 0 and 1:"
      ],
      "metadata": {
        "id": "DmeX0lV_pOhc"
      }
    },
    {
      "cell_type": "code",
      "source": [
        "def generate_random_matrix(rows, cols):\n",
        "    return np.random.rand(rows, cols)\n"
      ],
      "metadata": {
        "id": "m9uy2WlVpPxC"
      },
      "execution_count": null,
      "outputs": []
    },
    {
      "cell_type": "markdown",
      "source": [
        "57. Create a function random_integer_array that takes integers low, high, and size as inputs and generates a 1D NumPy array with size random integers between low and high (inclusive):"
      ],
      "metadata": {
        "id": "emcbBikypSxl"
      }
    },
    {
      "cell_type": "code",
      "source": [
        "def random_integer_array(low, high, size):\n",
        "    return np.random.randint(low, high+1, size)\n"
      ],
      "metadata": {
        "id": "JDYsf0YVpT_a"
      },
      "execution_count": null,
      "outputs": []
    },
    {
      "cell_type": "markdown",
      "source": [
        "58. Write a function random_normal_array that takes integers size, mean, and std as inputs and generates a 1D NumPy array with size elements drawn from a normal distribution with specified mean and std:"
      ],
      "metadata": {
        "id": "UmgLc5RqpXmt"
      }
    },
    {
      "cell_type": "code",
      "source": [
        "def random_normal_array(size, mean, std):\n",
        "    return np.random.normal(mean, std, size)\n"
      ],
      "metadata": {
        "id": "VCY2Bfs8pZXB"
      },
      "execution_count": null,
      "outputs": []
    },
    {
      "cell_type": "markdown",
      "source": [
        "59. Create a function shuffle_array that takes a 1D NumPy array as input and returns a shuffled version of the array:"
      ],
      "metadata": {
        "id": "G8mPTALapckr"
      }
    },
    {
      "cell_type": "code",
      "source": [
        "def shuffle_array(arr):\n",
        "    np.random.shuffle(arr)\n",
        "    return arr\n"
      ],
      "metadata": {
        "id": "iUH4RdSopenv"
      },
      "execution_count": null,
      "outputs": []
    },
    {
      "cell_type": "markdown",
      "source": [
        "60. Design a function random_choice_array that takes a 1D NumPy array and an integer size as inputs and returns a new array with size random elements chosen from the input array:\n",
        "\n"
      ],
      "metadata": {
        "id": "rABFmzChpiFq"
      }
    },
    {
      "cell_type": "code",
      "source": [
        "def random_choice_array(arr, size):\n",
        "    return np.random.choice(arr, size)\n"
      ],
      "metadata": {
        "id": "NlOx2MzZpk5h"
      },
      "execution_count": null,
      "outputs": []
    },
    {
      "cell_type": "markdown",
      "source": [
        "61. Create a function generate_permutation that takes a 1D NumPy array as input and returns a randomly permuted version of the array:"
      ],
      "metadata": {
        "id": "sVgv0nsZpnaF"
      }
    },
    {
      "cell_type": "code",
      "source": [
        "def generate_permutation(arr):\n",
        "    return np.random.permutation(arr)\n"
      ],
      "metadata": {
        "id": "gjJm-vfhpoSg"
      },
      "execution_count": null,
      "outputs": []
    },
    {
      "cell_type": "markdown",
      "source": [
        "62. Write a function seed_random_number_generator that takes an integer seed as input and seeds the random number generator:"
      ],
      "metadata": {
        "id": "7MLHLPnSpqHS"
      }
    },
    {
      "cell_type": "code",
      "source": [
        "def seed_random_number_generator(seed):\n",
        "    np.random.seed(seed)\n"
      ],
      "metadata": {
        "id": "_kv_L12aprIV"
      },
      "execution_count": null,
      "outputs": []
    },
    {
      "cell_type": "markdown",
      "source": [
        "63. Create a function elementwise_addition that takes two 1D NumPy arrays as inputs and returns their element-wise sum:"
      ],
      "metadata": {
        "id": "Y_bL6sImpue7"
      }
    },
    {
      "cell_type": "code",
      "source": [
        "def elementwise_addition(arr1, arr2):\n",
        "    return np.add(arr1, arr2)\n"
      ],
      "metadata": {
        "id": "VZMYuqdIpv3t"
      },
      "execution_count": null,
      "outputs": []
    },
    {
      "cell_type": "markdown",
      "source": [
        "64. Design a function elementwise_multiplication that takes two 1D NumPy arrays as inputs and returns their element-wise product:"
      ],
      "metadata": {
        "id": "g8aDnwxypyQu"
      }
    },
    {
      "cell_type": "code",
      "source": [
        "def elementwise_multiplication(arr1, arr2):\n",
        "    return np.multiply(arr1, arr2)\n"
      ],
      "metadata": {
        "id": "CweiHI2yp1TT"
      },
      "execution_count": null,
      "outputs": []
    },
    {
      "cell_type": "markdown",
      "source": [
        "65. Create a function elementwise_division that takes two 1D NumPy arrays as inputs and returns their element-wise division:"
      ],
      "metadata": {
        "id": "MzxuQxqGp5zB"
      }
    },
    {
      "cell_type": "code",
      "source": [
        "def elementwise_division(arr1, arr2):\n",
        "    return np.divide(arr1, arr2)\n"
      ],
      "metadata": {
        "id": "lmstrElep6_G"
      },
      "execution_count": null,
      "outputs": []
    },
    {
      "cell_type": "markdown",
      "source": [
        "66. Write a function elementwise_subtraction that takes two 1D NumPy arrays as inputs and returns their element-wise subtraction:"
      ],
      "metadata": {
        "id": "EIbItM2mp9KQ"
      }
    },
    {
      "cell_type": "code",
      "source": [
        "def elementwise_subtraction(arr1, arr2):\n",
        "    return np.subtract(arr1, arr2)\n"
      ],
      "metadata": {
        "id": "OiIBO62Kp-s0"
      },
      "execution_count": null,
      "outputs": []
    },
    {
      "cell_type": "markdown",
      "source": [
        "67. Create a function logical_and_arrays that takes two NumPy arrays as inputs and returns their element-wise logical AND:"
      ],
      "metadata": {
        "id": "pmYq5tO1qH2U"
      }
    },
    {
      "cell_type": "code",
      "source": [
        "def logical_and_arrays(arr1, arr2):\n",
        "    return np.logical_and(arr1, arr2)\n"
      ],
      "metadata": {
        "id": "IoFTgwXtqI7g"
      },
      "execution_count": null,
      "outputs": []
    },
    {
      "cell_type": "markdown",
      "source": [
        "68. Design a function logical_or_arrays that takes two NumPy arrays as inputs and returns their element-wise logical OR:"
      ],
      "metadata": {
        "id": "UiAEzQCoqLx5"
      }
    },
    {
      "cell_type": "code",
      "source": [
        "def logical_or_arrays(arr1, arr2):\n",
        "    return np.logical_or(arr1, arr2)\n"
      ],
      "metadata": {
        "id": "9NYUZYaNqOGq"
      },
      "execution_count": null,
      "outputs": []
    },
    {
      "cell_type": "markdown",
      "source": [
        "69. Create a function logical_xor_arrays that takes two NumPy arrays as inputs and returns their element-wise logical XOR:"
      ],
      "metadata": {
        "id": "OPJ94d5kqRFn"
      }
    },
    {
      "cell_type": "code",
      "source": [
        "def logical_xor_arrays(arr1, arr2):\n",
        "    return np.logical_xor(arr1, arr2)\n"
      ],
      "metadata": {
        "id": "XrpHAOyPqUdV"
      },
      "execution_count": null,
      "outputs": []
    },
    {
      "cell_type": "markdown",
      "source": [
        "70. Write a function logical_not_array that takes a NumPy array as input and returns the element-wise logical NOT of the array:"
      ],
      "metadata": {
        "id": "g9t9bMg1qXyY"
      }
    },
    {
      "cell_type": "code",
      "source": [
        "def logical_not_array(arr):\n",
        "    return np.logical_not(arr)\n"
      ],
      "metadata": {
        "id": "qrBrenpGqZqF"
      },
      "execution_count": null,
      "outputs": []
    },
    {
      "cell_type": "markdown",
      "source": [
        "71. Create a function compare_arrays that takes two NumPy arrays as inputs and returns a boolean array that compares them element-wise:"
      ],
      "metadata": {
        "id": "01RJ-RAdqc2s"
      }
    },
    {
      "cell_type": "code",
      "source": [
        "def compare_arrays(arr1, arr2):\n",
        "    return np.equal(arr1, arr2)\n"
      ],
      "metadata": {
        "id": "Qh5WAwf1qb4G"
      },
      "execution_count": null,
      "outputs": []
    },
    {
      "cell_type": "markdown",
      "source": [
        "72. Design a function greater_than_array that takes two NumPy arrays as inputs and returns a boolean array indicating where the elements of the first array are greater than the second:"
      ],
      "metadata": {
        "id": "Oy5jJfzkqhXP"
      }
    },
    {
      "cell_type": "code",
      "source": [
        "def greater_than_array(arr1, arr2):\n",
        "    return np.greater(arr1, arr2)\n"
      ],
      "metadata": {
        "id": "Dyz0ysIgqilM"
      },
      "execution_count": null,
      "outputs": []
    },
    {
      "cell_type": "markdown",
      "source": [
        "73. Create a function less_than_array that takes two NumPy arrays as inputs and returns a boolean array indicating where the elements of the first array are less than the second:"
      ],
      "metadata": {
        "id": "hcBjqGsqqlyg"
      }
    },
    {
      "cell_type": "code",
      "source": [
        "def less_than_array(arr1, arr2):\n",
        "    return np.less(arr1, arr2)\n"
      ],
      "metadata": {
        "id": "gaMUnHd_qnP3"
      },
      "execution_count": null,
      "outputs": []
    },
    {
      "cell_type": "markdown",
      "source": [
        "74. Write a function greater_equal_array that takes two NumPy arrays as inputs and returns a boolean array indicating where the elements of the first array are greater than or equal to the second:"
      ],
      "metadata": {
        "id": "4T9LBbsFqqDN"
      }
    },
    {
      "cell_type": "code",
      "source": [
        "def greater_equal_array(arr1, arr2):\n",
        "    return np.greater_equal(arr1, arr2)\n"
      ],
      "metadata": {
        "id": "XS3pYrhhqsWr"
      },
      "execution_count": null,
      "outputs": []
    },
    {
      "cell_type": "markdown",
      "source": [
        "75. Create a function less_equal_array that takes two NumPy arrays as inputs and returns a boolean array indicating where the elements of the first array are less than or equal to the second:"
      ],
      "metadata": {
        "id": "DM5WwS8DqwdO"
      }
    },
    {
      "cell_type": "code",
      "source": [
        "def less_equal_array(arr1, arr2):\n",
        "    return np.less_equal(arr1, arr2)\n"
      ],
      "metadata": {
        "id": "7vd9qnm8qxu6"
      },
      "execution_count": null,
      "outputs": []
    },
    {
      "cell_type": "markdown",
      "source": [
        "76. Design a function array_where_condition that takes a NumPy array and a condition as inputs and returns a new array with elements where the condition is True:"
      ],
      "metadata": {
        "id": "raKq8Kt3q17a"
      }
    },
    {
      "cell_type": "code",
      "source": [
        "def array_where_condition(arr, condition):\n",
        "    return np.where(condition, arr, np.nan)\n"
      ],
      "metadata": {
        "id": "Dc2mYpZQq3IM"
      },
      "execution_count": null,
      "outputs": []
    },
    {
      "cell_type": "markdown",
      "source": [
        "77. Create a function unique_elements that takes a NumPy array as input and returns an array of unique elements:"
      ],
      "metadata": {
        "id": "-nvZPbN9q5ky"
      }
    },
    {
      "cell_type": "code",
      "source": [
        "def unique_elements(arr):\n",
        "    return np.unique(arr)\n"
      ],
      "metadata": {
        "id": "V7ZToB2Mq6pV"
      },
      "execution_count": null,
      "outputs": []
    },
    {
      "cell_type": "markdown",
      "source": [
        "78. Write a function intersect_arrays that takes two NumPy arrays as inputs and returns their intersection:"
      ],
      "metadata": {
        "id": "yu6OzHC9q8fy"
      }
    },
    {
      "cell_type": "code",
      "source": [
        "def intersect_arrays(arr1, arr2):\n",
        "    return np.intersect1d(arr1, arr2)\n"
      ],
      "metadata": {
        "id": "SWD5TCtbq-su"
      },
      "execution_count": null,
      "outputs": []
    },
    {
      "cell_type": "markdown",
      "source": [
        "79. Create a function union_arrays that takes two NumPy arrays as inputs and returns their union:"
      ],
      "metadata": {
        "id": "LPpRb-KyrA-F"
      }
    },
    {
      "cell_type": "code",
      "source": [
        "def union_arrays(arr1, arr2):\n",
        "    return np.union1d(arr1, arr2)\n"
      ],
      "metadata": {
        "id": "X_0BP-LIrCFW"
      },
      "execution_count": null,
      "outputs": []
    },
    {
      "cell_type": "markdown",
      "source": [
        "80. Design a function difference_arrays that takes two NumPy arrays as inputs and returns their difference:"
      ],
      "metadata": {
        "id": "xzBQi__qrEpJ"
      }
    },
    {
      "cell_type": "code",
      "source": [
        "def difference_arrays(arr1, arr2):\n",
        "    return np.setdiff1d(arr1, arr2)\n"
      ],
      "metadata": {
        "id": "TO-7HP4-rEC3"
      },
      "execution_count": null,
      "outputs": []
    },
    {
      "cell_type": "markdown",
      "source": [
        "81. Create a function symmetric_difference_arrays that takes two NumPy arrays as inputs and returns their symmetric difference:"
      ],
      "metadata": {
        "id": "pI_iy9n0rIGx"
      }
    },
    {
      "cell_type": "code",
      "source": [
        "def symmetric_difference_arrays(arr1, arr2):\n",
        "    return np.setxor1d(arr1, arr2)\n"
      ],
      "metadata": {
        "id": "5vjHOlF5rJdo"
      },
      "execution_count": null,
      "outputs": []
    },
    {
      "cell_type": "markdown",
      "source": [
        "82. Write a function find_nonzero_elements that takes a NumPy array as input and returns the indices of non-zero elements:"
      ],
      "metadata": {
        "id": "aqLU-Lz8rMAB"
      }
    },
    {
      "cell_type": "code",
      "source": [
        "def find_nonzero_elements(arr):\n",
        "    return np.nonzero(arr)\n"
      ],
      "metadata": {
        "id": "Cd5RnwrirNeG"
      },
      "execution_count": null,
      "outputs": []
    },
    {
      "cell_type": "markdown",
      "source": [
        "83. Create a function count_nonzero_elements that takes a NumPy array as input and returns the count of non-zero elements:"
      ],
      "metadata": {
        "id": "3dCFSCuYrPcx"
      }
    },
    {
      "cell_type": "code",
      "source": [
        "def count_nonzero_elements(arr):\n",
        "    return np.count_nonzero(arr)\n"
      ],
      "metadata": {
        "id": "4yEvic9xrRyy"
      },
      "execution_count": null,
      "outputs": []
    },
    {
      "cell_type": "markdown",
      "source": [
        "84. Design a function clip_array that takes a NumPy array, a minimum value, and a maximum value as inputs and returns the array with elements clipped between the minimum and maximum values:"
      ],
      "metadata": {
        "id": "u3FHTXb3rZrY"
      }
    },
    {
      "cell_type": "code",
      "source": [
        "def clip_array(arr, min_value, max_value):\n",
        "    return np.clip(arr, min_value, max_value)\n"
      ],
      "metadata": {
        "id": "JZIZhP4trcN9"
      },
      "execution_count": null,
      "outputs": []
    },
    {
      "cell_type": "markdown",
      "source": [
        "85. Create a function sort_array that takes a NumPy array as input and returns a sorted version of the array:"
      ],
      "metadata": {
        "id": "VVefxxBqrd48"
      }
    },
    {
      "cell_type": "code",
      "source": [
        "def sort_array(arr):\n",
        "    return np.sort(arr)\n"
      ],
      "metadata": {
        "id": "k2qwAKJwrgsR"
      },
      "execution_count": null,
      "outputs": []
    }
  ]
}